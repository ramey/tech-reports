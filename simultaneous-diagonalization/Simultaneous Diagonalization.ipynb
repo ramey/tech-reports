{
 "cells": [
  {
   "cell_type": "markdown",
   "metadata": {},
   "source": [
    "# Simultaneous Diagonalization: Derivations, Properties, and Examples\n",
    "\n",
    "John A. Ramey"
   ]
  },
  {
   "cell_type": "markdown",
   "metadata": {},
   "source": [
    "## Introduction\n",
    "\n",
    "TODO"
   ]
  },
  {
   "cell_type": "markdown",
   "metadata": {},
   "source": [
    "## Golub and Van Loan (1996), *Matrix Computations*\n",
    "***\n",
    "\n",
    "In Section 8.7, Golub and Van Loan consider some generalized eigenvalue problems, which are closely related to simultaneous diagonalization. The goal is to find a nonzero vector $\\textbf{x}$ and a scalar $\\lambda$ such that, $$\\textbf{Ax} = \\lambda \\textbf{Bx},$$ where $\\textbf{A} \\in \\mathbb{R}^{n \\times n}$ is symmetric and $\\textbf{B} \\in \\mathbb{R}^{n \\times n}$ is symmetric positive definite. The scalar $\\lambda$ can be thought of as a *generalized eigenvalue*. The problem formulation resembles that of standard eigenvalue problems when $\\textbf{B} = \\textbf{I}_n$.\n",
    "\n",
    "The matrix $\\textbf{A} - \\lambda \\textbf{B}$ defines a *pencil*, $$\\lambda(\\textbf{A}, \\textbf{B}) = \\{ \\lambda\\ | \\ \\text{det}(\\textbf{A} - \\lambda \\textbf{B}) = 0 \\}.$$\n",
    "\n",
    "A symmetric-definite generalized eigenproblem can be transformed to an equivalent problem with a congruence transformation: $$ \\textbf{A} - \\lambda \\textbf{B} \\text{ is singular} \\Leftrightarrow (\\textbf{X}'\\textbf{AX}) - \\lambda (\\textbf{X}'\\textbf{BX}) \\text{ is singular}.$$\n",
    "\n",
    "We seek a stable, efficient algorithm that computes $\\textbf{X}$ such that $\\textbf{X}'\\textbf{AX}$ and $\\textbf{X}'\\textbf{BX}$ are both in *canonical form* (i.e., diagonal form)."
   ]
  },
  {
   "cell_type": "markdown",
   "metadata": {},
   "source": [
    "### Theorem 8.7.1 (p. 461)\n",
    "\n",
    "Suppose $\\textbf{A}, \\textbf{B} \\in \\mathbb{R}^{n \\times n}$ are symmetric, and define\n",
    "\n",
    "$$\\textbf{C}(\\mu) = \\mu \\textbf{A} + (1 - \\mu) \\textbf{B}, \\quad \\mu \\in \\mathbb{R}.$$\n",
    "\n",
    "If there exists a $\\mu \\in [0, 1]$ such that $\\textbf{C}(\\mu)$ is non-negative definite and\n",
    "\n",
    "$$\\text{null}(\\textbf{C}(\\mu)) = \\text{null}(\\textbf{A}) \\cap \\text{null}(\\textbf{B}),$$\n",
    "\n",
    "then there exists a nonsingular $\\textbf{X}$ such that both $\\textbf{X' A X}$ and $\\textbf{X' B X}$ are diagonal.\n",
    "\n",
    "#### Proof\n",
    "\n",
    "Let $\\mu \\in [0, 1]$ be chosen so that $\\textbf{C}(\\mu)$ is non-negative definite with the property that $\\text{null}(\\textbf{C}(\\mu)) = \\text{null}(\\textbf{A}) \\cap \\text{null}(\\textbf{B})$. Let\n",
    "\n",
    "$$\n",
    "\\textbf{Q}_1' \\textbf{C}(\\mu) \\textbf{Q}_1 = \\begin{bmatrix} \\textbf{D} & \\textbf{0} \\\\ \\textbf{0} & \\textbf{0}_{n-k} \\end{bmatrix}, \\quad \\textbf{D} =  \\text{diag}(d_1, \\ldots, d_k), d_i > 0\n",
    "$$\n",
    "\n",
    "be the [Schur decomposition](https://en.wikipedia.org/wiki/Schur_decomposition) of $\\textbf{C}(\\mu)$ and define $\\textbf{X}_1 = \\textbf{Q}_1$ diag$(\\textbf{D}^{-1/2}, \\textbf{I}_{n - k})$. If $\\textbf{A}_1 = \\textbf{X}_1' \\textbf{A X}_1$, $\\textbf{B}_1 = \\textbf{X}_1' \\textbf{B X}_1$, and $\\textbf{C}_1 = \\textbf{X}_1' \\textbf{C}(\\mu) \\textbf{X}_1$, then\n",
    "\n",
    "$$\n",
    "\\textbf{C}_1 = \\begin{bmatrix} \\textbf{I}_k & \\textbf{0} \\\\ \\textbf{0} & \\textbf{0}_{n-k} \\end{bmatrix} = \\mu \\textbf{A}_1 + (1 - \\mu) \\textbf{B}_1.\n",
    "$$\n",
    "\n",
    "Since span{$e_{k+1}, \\ldots, e_n$} $ = \\text{null}(\\textbf{C}_1) = \\text{null}(\\textbf{A}_1) \\cap \\text{null}(\\textbf{B}_1)$, it follows that $\\textbf{A}_1$ and $\\textbf{B}_1$ have the following block structure:\n",
    "\n",
    "$$\n",
    "\\textbf{A}_1 = \\begin{bmatrix} \\textbf{A}_{11} & \\textbf{0} \\\\ \\textbf{0} & \\textbf{0}_{n-k} \\end{bmatrix}, \\quad\n",
    "\\textbf{B}_1 = \\begin{bmatrix} \\textbf{B}_{11} & \\textbf{0} \\\\ \\textbf{0} & \\textbf{0}_{n-k} \\end{bmatrix}.\n",
    "$$\n",
    "\n",
    "Moreover, $\\textbf{I}_k = \\mu \\textbf{A}_{11} + (1 - \\mu) \\textbf{B}_{11}$.\n",
    "\n",
    "Suppose $\\mu \\ne 0$. It then follows that if $\\textbf{Z}' \\textbf{B}_{11} \\textbf{Z} = \\text{diag}(b_1, \\ldots, b_k)$ is the [Schur decomposition](https://en.wikipedia.org/wiki/Schur_decomposition) of $\\textbf{B}_{11}$, and we set $\\textbf{X} = \\textbf{X}_1 \\text{diag}(\\textbf{Z}, \\textbf{I}_{n - k})$, then\n",
    "\n",
    "$$\n",
    "\\textbf{X}' \\textbf{B} \\textbf{X} = \\text{diag}(b_1, \\ldots, b_k, 0, \\ldots, 0) \\equiv \\textbf{D}_{\\textbf{B}}\n",
    "$$\n",
    "\n",
    "and\n",
    "\n",
    "\\begin{align}\n",
    "    \\textbf{X}' \\textbf{A} \\textbf{X}\n",
    "    &= \\frac{1}{\\mu} \\textbf{X}' \\{ \\textbf{C}(\\mu) - (1 - \\mu) \\textbf{B} \\} \\textbf{X} \\\\\n",
    "    &= \\frac{1}{\\mu} \\left\\{ \\begin{bmatrix} \\textbf{I}_k & \\textbf{0} \\\\ \\textbf{0} & \\textbf{0}_{n-k} \\end{bmatrix} - (1 - \\mu) \\textbf{B} \\right\\} \\equiv \\textbf{D}_{\\textbf{A}}.\n",
    "\\end{align}\n",
    "\n",
    "On the other hand, if $\\mu = 0$, then let $\\textbf{Z}' \\textbf{A}_{11} \\textbf{Z} = \\text{diag}(a_1, \\ldots, a_k)$ be the [Schur decomposition](https://en.wikipedia.org/wiki/Schur_decomposition) of $\\textbf{A}_{11}$ and set $\\textbf{X} = \\textbf{X}_1 \\text{diag}(\\textbf{Z}, \\textbf{I}_{n - k})$. It is easy to verify that in this case as well, both $\\textbf{X' A X}$ and $\\textbf{X' B X}$ are diagonal."
   ]
  },
  {
   "cell_type": "markdown",
   "metadata": {},
   "source": [
    "### Corollary 8.7.2 (p. 462)\n",
    "\n",
    "If $\\textbf{A} - \\lambda \\textbf{B} \\in \\mathbb{R}^{n \\times n}$ is symmetric-definite, then there exists a nonsingular $\\textbf{X} = [\\textbf{x}_1, \\ldots, \\textbf{x}_n]$ such that\n",
    "\n",
    "$$\n",
    "\\textbf{X}'\\textbf{A}\\textbf{X} = \\text{diag}(a_1, \\ldots, a_n) \\quad \\text{and} \\quad\n",
    "\\textbf{X}'\\textbf{B}\\textbf{X} = \\text{diag}(b_1, \\ldots, b_n).\n",
    "$$\n",
    "\n",
    "Moreover, $\\textbf{A} \\textbf{x}_i = \\lambda_i \\textbf{B} \\textbf{x}_i$ for $i = 1, \\ldots, n$, where $\\lambda_i = a_i / b_i$.\n",
    "\n",
    "#### Proof\n",
    "\n",
    "By setting $\\mu = 0$ in Theorem 8.7.1, we see that symmetric-definite pencils can be simultaneously diagonalized. The rest of the corollary is easily verified."
   ]
  },
  {
   "cell_type": "markdown",
   "metadata": {},
   "source": [
    "### Example 8.7.1 (p. 462)\n",
    "\n",
    "If\n",
    "\n",
    "$$\n",
    "\\textbf{A} = \\begin{bmatrix} 229 & 163 \\\\ 163 & 116 \\end{bmatrix}, \\quad\n",
    "\\textbf{B} = \\begin{bmatrix} 81 & 59 \\\\ 59 & 43 \\end{bmatrix},\n",
    "$$\n",
    "\n",
    "then $\\textbf{A} - \\lambda \\textbf{B}$ is symmetric-definite and $\\lambda(\\textbf{A}, \\textbf{B}) = \\{ 5, -1/2 \\}$. If\n",
    "\n",
    "$$\n",
    "\\textbf{X} = \\begin{bmatrix} 3 & -5 \\\\ -4 & 7 \\end{bmatrix},\n",
    "$$\n",
    "\n",
    "then\n",
    "\n",
    "\\begin{align}\n",
    "\\textbf{X}'\\textbf{AX} &= \\begin{bmatrix} 5 & 0 \\\\ 0 & -1 \\end{bmatrix}, \\\\\n",
    "\\textbf{X}'\\textbf{BX} &= \\begin{bmatrix} 1 & 0 \\\\ 0 & 2 \\end{bmatrix}.\n",
    "\\end{align}"
   ]
  },
  {
   "cell_type": "markdown",
   "metadata": {},
   "source": [
    "## Harville (2008), *Matrix Algebra from a Statistician's Perspective*\n",
    "\n",
    "TODO"
   ]
  },
  {
   "cell_type": "code",
   "execution_count": null,
   "metadata": {
    "collapsed": true
   },
   "outputs": [],
   "source": []
  }
 ],
 "metadata": {
  "kernelspec": {
   "display_name": "Python 2",
   "language": "python",
   "name": "python2"
  },
  "language_info": {
   "codemirror_mode": {
    "name": "ipython",
    "version": 2
   },
   "file_extension": ".py",
   "mimetype": "text/x-python",
   "name": "python",
   "nbconvert_exporter": "python",
   "pygments_lexer": "ipython2",
   "version": "2.7.11"
  }
 },
 "nbformat": 4,
 "nbformat_minor": 0
}
