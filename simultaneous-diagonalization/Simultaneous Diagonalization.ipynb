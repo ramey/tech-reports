{
 "cells": [
  {
   "cell_type": "markdown",
   "metadata": {},
   "source": [
    "# Simultaneous Diagonalization: Derivations, Properties, and Examples\n",
    "\n",
    "John A. Ramey"
   ]
  },
  {
   "cell_type": "markdown",
   "metadata": {},
   "source": [
    "## Introduction\n",
    "***\n",
    "\n",
    "In this document we consider the problem of diagonalizing $k$ matrices of dimensions $n \\times n$. That is, let $\\textbf{A}_1, \\ldots, \\textbf{A}_k \\in \\mathbb{R}_{n \\times n}$. We say that $\\textbf{Q}$ *simultaneously diagonalizes* $\\textbf{A}_1, \\ldots, \\textbf{A}_k$ if\n",
    "\n",
    "$$\\textbf{Q}'\\textbf{A}_k \\textbf{Q} = \\textbf{D}_k,$$\n",
    "\n",
    "where $\\textbf{D}_k$ is diagonal for all $k$. "
   ]
  },
  {
   "cell_type": "markdown",
   "metadata": {},
   "source": [
    "## Harville (2008), *Matrix Algebra from a Statistician's Perspective*\n",
    "***\n",
    "\n",
    "In Section 21.13, Harville first considers the case where $\\textbf{Q}$ is nonsingular. Suppose that there exists such a matrix $\\textbf{Q}$ such that $\\textbf{Q}^{-1}\\textbf{A}_k \\textbf{Q} = \\textbf{D}_k$ for some diagonal matrices $\\textbf{D}_k$. Then, for $s \\ne i = 1, \\ldots, k$,\n",
    "\n",
    "\\begin{align}\n",
    "    \\textbf{Q}^{-1} \\textbf{A}_s \\textbf{A}_i \\textbf{Q} &= \\textbf{Q}^{-1} \\textbf{A}_s \\textbf{Q} \\textbf{Q}^{-1} \\textbf{A}_i \\textbf{Q} \\\\\n",
    "    &= \\textbf{D}_s \\textbf{D}_i \\\\\n",
    "    &= \\textbf{D}_i \\textbf{D}_s \\\\\n",
    "    &= \\textbf{Q}^{-1} \\textbf{A}_i \\textbf{Q} \\textbf{Q}^{-1} \\textbf{A}_s \\textbf{Q} \\\\\n",
    "    &= \\textbf{Q}^{-1} \\textbf{A}_i \\textbf{A}_s \\textbf{Q},\n",
    "\\end{align}\n",
    "which implies\n",
    "\\begin{align}\n",
    "    \\textbf{A}_s \\textbf{A}_i\n",
    "    &= \\textbf{Q} (\\textbf{Q}^{-1} \\textbf{A}_s \\textbf{A}_i \\textbf{Q}) \\textbf{Q}^{-1} \\\\\n",
    "    &= \\textbf{Q} (\\textbf{Q}^{-1} \\textbf{A}_i \\textbf{A}_s \\textbf{Q}) \\textbf{Q}^{-1} \\\\\n",
    "    &= \\textbf{A}_i \\textbf{A}_s.\n",
    "\\end{align}\n",
    "\n",
    "Thus, a necessary condition for $\\textbf{A}_1, \\ldots, \\textbf{A}_k$ to be simultaneously diagonalizable is that $\\textbf{A}_1, \\ldots, \\textbf{A}_k$ commute in pairs, i.e., \n",
    "\n",
    "$$\n",
    "\\textbf{A}_i \\textbf{A}_s = \\textbf{A}_s \\textbf{A}_i \\quad (s > i = 1, \\ldots, k).\n",
    "$$\n",
    "\n",
    "Harville then states that commuting in pairs is a *necessary and sufficient* condition for symmetric matrices $\\textbf{A}_1, \\ldots, \\textbf{A}_k$ to be simultaneously diagonalizable. Rather than providing a theorem and then proof, the author derives the result by induction before stating the following theorem. **NOTE**: we do not include the lengthy constructive derivation."
   ]
  },
  {
   "cell_type": "markdown",
   "metadata": {},
   "source": [
    "### Theorem 21.13.1 (p. 568)\n",
    "\n",
    "If $n \\times n$ matrices $\\textbf{A}_1, \\ldots, \\textbf{A}_k$ are simultaneously diagonalizable, they they commute in pairs, that is, for $s > i = 1, \\ldots, k$, $\\textbf{A}_i \\textbf{A}_s = \\textbf{A}_s \\textbf{A}_i$. If $n \\times n$ symmetric matrices $\\textbf{A}_1, \\ldots, \\textbf{A}_k$ commute in pairs, they they can be simultaneously diagonalized by an orthogonal matrix; that is, there exists an $n \\times n$ orthogonal matrix $\\textbf{P}$ and diagonal matrices $\\textbf{D}_1, \\ldots, \\textbf{D}_k$ such that, for $i = 1, \\ldots, k$,\n",
    "\n",
    "$$\n",
    "\\textbf{P}'\\textbf{A}_i \\textbf{P} = \\textbf{D}_i.\n",
    "$$\n",
    "\n",
    "#### Note\n",
    "\n",
    "Note that symmetric matrices $\\textbf{A}_1, \\ldots, \\textbf{A}_k$ commute in pairs if and only if each of the $k(k - 1) / 2$ matrix products $\\textbf{A}_1 \\textbf{A}_2, \\textbf{A}_1 \\textbf{A}_3, \\ldots, \\textbf{A}_{k-1} \\textbf{A}_k$ is symmetric.\n",
    "\n",
    "In the special case where $k = 2$, Theorem 21.13.1 can be restated as the following corrollary."
   ]
  },
  {
   "cell_type": "markdown",
   "metadata": {},
   "source": [
    "### Corollary 21.13.2 (p. 568)\n",
    "\n",
    "If two $n \\times n$ matrices $\\textbf{A}$ and $\\textbf{B}$ are simultaneously diagonalizable, then they commute (i.e., $\\textbf{BA} = \\textbf{AB}$). If two $n \\times n$ *symmetric* matrices $\\textbf{A}$ and $\\textbf{B}$ commute (or, equivalently, if their product $\\textbf{AB}$ is symmetric), then they can be simultaneously diagonalized by an orthogonal matrix; that is, there exists an $n \\times n$ orthogonal matrix $\\textbf{P}$ such that $\\textbf{P}'\\textbf{A} \\textbf{P} = \\textbf{D}_1$ and $\\textbf{P}'\\textbf{B} \\textbf{P} = \\textbf{D}_2$ for some diagonal matrices $\\textbf{D}_1$ and $\\textbf{D}_2$."
   ]
  },
  {
   "cell_type": "markdown",
   "metadata": {},
   "source": [
    "### Exercise 29 (p. 588)\n",
    "\n",
    "Let $\\textbf{A}_1, \\ldots, \\textbf{A}_k$ represent $n \\times n$ not-necessarily-symmetric matrices, each of which is  diagonalizable. Show that if $\\textbf{A}_1, \\ldots, \\textbf{A}_k$ commute in pairs, then $\\textbf{A}_1, \\ldots, \\textbf{A}_k$ are simultaneously diagonalizable."
   ]
  },
  {
   "cell_type": "markdown",
   "metadata": {},
   "source": [
    "## Horn and Johnson (1985), *Matrix Analysis*\n",
    "***\n",
    "\n",
    "In Section 4.5 (p. 227-228) consider simultaneous diagonalization in the context of mechanics problems (e.g., kinetic and potential energy). Horn and Johnson enumerate several cases of two simultaneously diagonalizable matrices. Necessary and sufficient conditions are given (see table below) for these cases:\n",
    "\n",
    "* Hermitian matrices $\\textbf{A}$ and $\\textbf{B}$ with some unitary matrix $\\textbf{U}$\n",
    "* Hermitian matrices $\\textbf{A}$ and $\\textbf{B}$ with some nonsingular matrix $\\textbf{S}$ (weaker result)\n",
    "* Symmetric matrices $\\textbf{A}$ and $\\textbf{B}$ with some unitary matrix $\\textbf{U}$\n",
    "* Symmetric matrices $\\textbf{A}$ and $\\textbf{B}$ with some nonsingular matrix $\\textbf{S}$\n",
    "* Two symmetric matrices $\\textbf{A}$ and $\\textbf{B}$ with some unitary matrix $\\textbf{U}$\n",
    "* Hermitian matrix $\\textbf{A}$ and symmetric matrix $\\textbf{B}$ with either unitary $\\textbf{U}$ or singular matrix $\\textbf{S}$ (mixed problem)\n",
    "\n",
    "After listing the various cases, the authors state:\n",
    "\n",
    "> In each case, the natural congruence to consider is one that preserves the special algebraic character of the respective matrix. Al of these situations arise in the applications. Fortunately, they can all be treated with the same techniques. The simplest case to consider is when one of the two matrices is nonsingular.\n",
    "\n",
    "### TODO: Table 4.5.15T on page 229"
   ]
  },
  {
   "cell_type": "markdown",
   "metadata": {},
   "source": [
    "Section 7.6 provides some results regarding simultaneous diagonalization after the following note.\n",
    "> Simultaneous diagonalizability of two matrices by similarity is a rare event, requiring the strong joint assumption of commutativity. Simultaneous diagonalization of two Hermitian matrices by joint star-congruence, however, requires much less. Simultaneous diagonalization by star-congruence corresponds to transforming two Hermitian quadratic forms into a linear combination of squares by a single linear change of variables.\n",
    "\n",
    "### Definition 7.6.2 (p. 464)\n",
    "\n",
    "Two matrices $\\textbf{A}, \\textbf{B} \\in M_n$ are star-congruent if there exists a nonsingular matrix $\\textbf{C} \\in M_n$ such that $\\textbf{B} = \\textbf{C}^*\\textbf{A}\\textbf{C}$.\n",
    "\n",
    "The following theorem (without proof) is used in the proof of **Theorem 7.6.4** below.\n",
    "\n",
    "### Theorem 7.2.7 (p. 406)\n",
    "\n",
    "A matrix $\\textbf B \\in M_n$ is positive definite if and only if there is a nonsingular matrix $\\textbf{C} \\in M_n$ such that $\\textbf{B} = \\textbf{C}^* \\textbf{C}$.\n",
    "\n",
    "> The following result is classical; for a generalization see 4.5.15 (table and results above).\n",
    "\n",
    "### Theorem 7.6.4 (p. 465)\n",
    "\n",
    "Let $\\textbf{A}, \\textbf{B} \\in M_n$ be two Hermitian matrices and suppose that there is a real linear combination of $\\textbf{A}$ and $\\textbf{B}$ that is positive dfeinite. Then there exists a nonsingular matrix $\\textbf{C} \\in M_n$ such that $\\textbf{C}^*\\textbf{A}\\textbf{C}$ and $\\textbf{C}^*\\textbf{B}\\textbf{C}$ are diagonal.\n",
    "\n",
    "#### Proof\n",
    "\n",
    "Suppose that $\\textbf{P} = \\alpha \\textbf{A} + \\beta \\textbf{B}$ is positive definite for some $\\alpha, \\beta \\in \\mathbb{R}$. At least one of $\\alpha$ and $\\beta$ must be nonzero, so we may assume $\\beta \\ne 0$. But since $\\textbf{B} = \\beta^{-1}(\\textbf{P} - \\alpha \\textbf{A})$, if we can show that $\\textbf{A}$ and $\\textbf{P}$ are simultaneously diagonalizable by star-congruence, then it will follow that $\\textbf{A}$ and $\\textbf{B}$ are also. By Theorem 7.2.7 (see above) we know that $\\textbf{P}$ is star-congruent to the identity, so there is some nonsingular $\\textbf{C}_1 \\in M_n$ such that $\\textbf{C}_1^* \\textbf{P} \\textbf{C}_1 = \\textbf{I}$. Since $\\textbf{C}_1^* \\textbf{P} \\textbf{C}_1$ is Hermititan, there exists a unitary matrix $\\textbf{U}$ such that $\\textbf{U}^* \\textbf{C}_1^* \\textbf{P} \\textbf{C}_1 \\textbf{U} = \\textbf{D}$ is diagonal. Letting $\\textbf{C} \\equiv \\textbf{C}_1 \\textbf{U}$, we have $\\textbf{C}^* \\textbf{P} \\textbf{C} = \\textbf{I}$ and $\\textbf{C}^* \\textbf{A} \\textbf{C} = \\textbf{D}$ so that $\\textbf{C}^* \\textbf{B} \\textbf{C} = \\beta^{-1}(\\textbf{I} - \\alpha \\textbf{D})$ is diagonal.\n",
    "\n",
    "Corollary 7.6.5 provides the result for the most common application of Theorem 7.6.4 to the classical situation in mechanics, in which two real symmetric quadratic forms are given, one of which is positive definite.\n",
    "\n",
    "### Corollary 7.6.5 (p. 466)\n",
    "\n",
    "If $\\textbf{A} \\in M_n$ is positive definite and $\\textbf{B} \\in M_n$ is Hermitian, then there exists a nonsingular matrix $\\textbf{C} \\in M_n$ such that $\\textbf{C}^*\\textbf{A}\\textbf{C} = \\textbf{I}$ and $\\textbf{C}^*\\textbf{B}\\textbf{C}$ are diagonal.\n",
    "\n",
    "Theorem 7.6.6 provides an analogous result for a pair of matrices, one of which is positive definite and the other (complex) symmetric. This result is also generalized in Table 4.5.15 (table above).\n",
    "\n",
    "### Theorem 7.6.6 (p. 466)\n",
    "\n",
    "TODO"
   ]
  },
  {
   "cell_type": "markdown",
   "metadata": {},
   "source": [
    "## Horn and Johnson (1991), *Topics in Matrix Analysis*\n",
    "***\n",
    "\n",
    "TODO"
   ]
  },
  {
   "cell_type": "markdown",
   "metadata": {},
   "source": [
    "## Golub and Van Loan (1996), *Matrix Computations*\n",
    "***\n",
    "\n",
    "In Section 8.7, Golub and Van Loan consider some generalized eigenvalue problems, which are closely related to simultaneous diagonalization. The goal is to find a nonzero vector $\\textbf{x}$ and a scalar $\\lambda$ such that, $$\\textbf{Ax} = \\lambda \\textbf{Bx},$$ where $\\textbf{A} \\in \\mathbb{R}^{n \\times n}$ is symmetric and $\\textbf{B} \\in \\mathbb{R}^{n \\times n}$ is symmetric positive definite. The scalar $\\lambda$ can be thought of as a *generalized eigenvalue*. The problem formulation resembles that of standard eigenvalue problems when $\\textbf{B} = \\textbf{I}_n$.\n",
    "\n",
    "The matrix $\\textbf{A} - \\lambda \\textbf{B}$ defines a *pencil*, $$\\lambda(\\textbf{A}, \\textbf{B}) = \\{ \\lambda\\ | \\ \\text{det}(\\textbf{A} - \\lambda \\textbf{B}) = 0 \\}.$$\n",
    "\n",
    "A symmetric-definite generalized eigenproblem can be transformed to an equivalent problem with a congruence transformation: $$ \\textbf{A} - \\lambda \\textbf{B} \\text{ is singular} \\Leftrightarrow (\\textbf{X}'\\textbf{AX}) - \\lambda (\\textbf{X}'\\textbf{BX}) \\text{ is singular}.$$\n",
    "\n",
    "We seek a stable, efficient algorithm that computes $\\textbf{X}$ such that $\\textbf{X}'\\textbf{AX}$ and $\\textbf{X}'\\textbf{BX}$ are both in *canonical form* (i.e., diagonal form)."
   ]
  },
  {
   "cell_type": "markdown",
   "metadata": {},
   "source": [
    "### Theorem 8.7.1 (p. 461)\n",
    "\n",
    "Suppose $\\textbf{A}, \\textbf{B} \\in \\mathbb{R}^{n \\times n}$ are symmetric, and define\n",
    "\n",
    "$$\\textbf{C}(\\mu) = \\mu \\textbf{A} + (1 - \\mu) \\textbf{B}, \\quad \\mu \\in \\mathbb{R}.$$\n",
    "\n",
    "If there exists a $\\mu \\in [0, 1]$ such that $\\textbf{C}(\\mu)$ is non-negative definite and\n",
    "\n",
    "$$\\text{null}(\\textbf{C}(\\mu)) = \\text{null}(\\textbf{A}) \\cap \\text{null}(\\textbf{B}),$$\n",
    "\n",
    "then there exists a nonsingular $\\textbf{X}$ such that both $\\textbf{X' A X}$ and $\\textbf{X' B X}$ are diagonal.\n",
    "\n",
    "#### Proof\n",
    "\n",
    "Let $\\mu \\in [0, 1]$ be chosen so that $\\textbf{C}(\\mu)$ is non-negative definite with the property that $\\text{null}(\\textbf{C}(\\mu)) = \\text{null}(\\textbf{A}) \\cap \\text{null}(\\textbf{B})$. Let\n",
    "\n",
    "$$\n",
    "\\textbf{Q}_1' \\textbf{C}(\\mu) \\textbf{Q}_1 = \\begin{bmatrix} \\textbf{D} & \\textbf{0} \\\\ \\textbf{0} & \\textbf{0}_{n-k} \\end{bmatrix}, \\quad \\textbf{D} =  \\text{diag}(d_1, \\ldots, d_k), d_i > 0\n",
    "$$\n",
    "\n",
    "be the [Schur decomposition](https://en.wikipedia.org/wiki/Schur_decomposition) of $\\textbf{C}(\\mu)$ and define $\\textbf{X}_1 = \\textbf{Q}_1$ diag$(\\textbf{D}^{-1/2}, \\textbf{I}_{n - k})$. If $\\textbf{A}_1 = \\textbf{X}_1' \\textbf{A X}_1$, $\\textbf{B}_1 = \\textbf{X}_1' \\textbf{B X}_1$, and $\\textbf{C}_1 = \\textbf{X}_1' \\textbf{C}(\\mu) \\textbf{X}_1$, then\n",
    "\n",
    "$$\n",
    "\\textbf{C}_1 = \\begin{bmatrix} \\textbf{I}_k & \\textbf{0} \\\\ \\textbf{0} & \\textbf{0}_{n-k} \\end{bmatrix} = \\mu \\textbf{A}_1 + (1 - \\mu) \\textbf{B}_1.\n",
    "$$\n",
    "\n",
    "Since span{$e_{k+1}, \\ldots, e_n$} $ = \\text{null}(\\textbf{C}_1) = \\text{null}(\\textbf{A}_1) \\cap \\text{null}(\\textbf{B}_1)$, it follows that $\\textbf{A}_1$ and $\\textbf{B}_1$ have the following block structure:\n",
    "\n",
    "$$\n",
    "\\textbf{A}_1 = \\begin{bmatrix} \\textbf{A}_{11} & \\textbf{0} \\\\ \\textbf{0} & \\textbf{0}_{n-k} \\end{bmatrix}, \\quad\n",
    "\\textbf{B}_1 = \\begin{bmatrix} \\textbf{B}_{11} & \\textbf{0} \\\\ \\textbf{0} & \\textbf{0}_{n-k} \\end{bmatrix}.\n",
    "$$\n",
    "\n",
    "Moreover, $\\textbf{I}_k = \\mu \\textbf{A}_{11} + (1 - \\mu) \\textbf{B}_{11}$.\n",
    "\n",
    "Suppose $\\mu \\ne 0$. It then follows that if $\\textbf{Z}' \\textbf{B}_{11} \\textbf{Z} = \\text{diag}(b_1, \\ldots, b_k)$ is the [Schur decomposition](https://en.wikipedia.org/wiki/Schur_decomposition) of $\\textbf{B}_{11}$, and we set $\\textbf{X} = \\textbf{X}_1 \\text{diag}(\\textbf{Z}, \\textbf{I}_{n - k})$, then\n",
    "\n",
    "$$\n",
    "\\textbf{X}' \\textbf{B} \\textbf{X} = \\text{diag}(b_1, \\ldots, b_k, 0, \\ldots, 0) \\equiv \\textbf{D}_{\\textbf{B}}\n",
    "$$\n",
    "\n",
    "and\n",
    "\n",
    "\\begin{align}\n",
    "    \\textbf{X}' \\textbf{A} \\textbf{X}\n",
    "    &= \\frac{1}{\\mu} \\textbf{X}' \\{ \\textbf{C}(\\mu) - (1 - \\mu) \\textbf{B} \\} \\textbf{X} \\\\\n",
    "    &= \\frac{1}{\\mu} \\left\\{ \\begin{bmatrix} \\textbf{I}_k & \\textbf{0} \\\\ \\textbf{0} & \\textbf{0}_{n-k} \\end{bmatrix} - (1 - \\mu) \\textbf{B} \\right\\} \\equiv \\textbf{D}_{\\textbf{A}}.\n",
    "\\end{align}\n",
    "\n",
    "On the other hand, if $\\mu = 0$, then let $\\textbf{Z}' \\textbf{A}_{11} \\textbf{Z} = \\text{diag}(a_1, \\ldots, a_k)$ be the [Schur decomposition](https://en.wikipedia.org/wiki/Schur_decomposition) of $\\textbf{A}_{11}$ and set $\\textbf{X} = \\textbf{X}_1 \\text{diag}(\\textbf{Z}, \\textbf{I}_{n - k})$. It is easy to verify that in this case as well, both $\\textbf{X' A X}$ and $\\textbf{X' B X}$ are diagonal."
   ]
  },
  {
   "cell_type": "markdown",
   "metadata": {},
   "source": [
    "### Corollary 8.7.2 (p. 462)\n",
    "\n",
    "If $\\textbf{A} - \\lambda \\textbf{B} \\in \\mathbb{R}^{n \\times n}$ is symmetric-definite, then there exists a nonsingular $\\textbf{X} = [\\textbf{x}_1, \\ldots, \\textbf{x}_n]$ such that\n",
    "\n",
    "$$\n",
    "\\textbf{X}'\\textbf{A}\\textbf{X} = \\text{diag}(a_1, \\ldots, a_n) \\quad \\text{and} \\quad\n",
    "\\textbf{X}'\\textbf{B}\\textbf{X} = \\text{diag}(b_1, \\ldots, b_n).\n",
    "$$\n",
    "\n",
    "Moreover, $\\textbf{A} \\textbf{x}_i = \\lambda_i \\textbf{B} \\textbf{x}_i$ for $i = 1, \\ldots, n$, where $\\lambda_i = a_i / b_i$.\n",
    "\n",
    "#### Proof\n",
    "\n",
    "By setting $\\mu = 0$ in Theorem 8.7.1, we see that symmetric-definite pencils can be simultaneously diagonalized. The rest of the corollary is easily verified."
   ]
  },
  {
   "cell_type": "markdown",
   "metadata": {},
   "source": [
    "### Example 8.7.1 (p. 462)\n",
    "\n",
    "If\n",
    "\n",
    "$$\n",
    "\\textbf{A} = \\begin{bmatrix} 229 & 163 \\\\ 163 & 116 \\end{bmatrix}, \\quad\n",
    "\\textbf{B} = \\begin{bmatrix} 81 & 59 \\\\ 59 & 43 \\end{bmatrix},\n",
    "$$\n",
    "\n",
    "then $\\textbf{A} - \\lambda \\textbf{B}$ is symmetric-definite and $\\lambda(\\textbf{A}, \\textbf{B}) = \\{ 5, -1/2 \\}$. If\n",
    "\n",
    "$$\n",
    "\\textbf{X} = \\begin{bmatrix} 3 & -5 \\\\ -4 & 7 \\end{bmatrix},\n",
    "$$\n",
    "\n",
    "then\n",
    "\n",
    "\\begin{align}\n",
    "\\textbf{X}'\\textbf{AX} &= \\begin{bmatrix} 5 & 0 \\\\ 0 & -1 \\end{bmatrix}, \\\\\n",
    "\\textbf{X}'\\textbf{BX} &= \\begin{bmatrix} 1 & 0 \\\\ 0 & 2 \\end{bmatrix}.\n",
    "\\end{align}"
   ]
  },
  {
   "cell_type": "markdown",
   "metadata": {},
   "source": [
    "## Fukunaga (1990), *Introduction to Statistical Pattern Recognition (2nd ed.)*\n",
    "***\n",
    "\n",
    "TODO"
   ]
  },
  {
   "cell_type": "code",
   "execution_count": null,
   "metadata": {
    "collapsed": true
   },
   "outputs": [],
   "source": []
  }
 ],
 "metadata": {
  "kernelspec": {
   "display_name": "Python 2",
   "language": "python",
   "name": "python2"
  },
  "language_info": {
   "codemirror_mode": {
    "name": "ipython",
    "version": 2
   },
   "file_extension": ".py",
   "mimetype": "text/x-python",
   "name": "python",
   "nbconvert_exporter": "python",
   "pygments_lexer": "ipython2",
   "version": "2.7.11"
  }
 },
 "nbformat": 4,
 "nbformat_minor": 0
}
